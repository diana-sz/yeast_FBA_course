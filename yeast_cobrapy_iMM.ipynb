{
 "cells": [
  {
   "cell_type": "markdown",
   "metadata": {},
   "source": [
    "# Simulating ethanol protein production in Saccharomyces cerevisiae with COBRApy\n",
    "\n",
    "This notebook provides an introduction to constraint-based metabolic modelling with COBRApy, followed by several practical exercisesm where you will be expected to fill out the missing code.\n",
    "\n",
    "We are going to work with a genome-scale metabolic model of yeast: [iMM904](http://bigg.ucsd.edu/models/iMM904).\n",
    "\n",
    "\n",
    "## COBRApy\n",
    "COBRApy is a python package for constraint-based metabolic modelling. It contains functions for running various analyses, such as FBA, pFBA, FVA, flux sampling, building and editing models...\n",
    "Here you can find the [COBRApy documentation](https://cobrapy.readthedocs.io/en/latest/).  \n",
    "In case you prefer MATLAB, there is [COBRA Toolbox](https://opencobra.github.io/cobratoolbox/stable/). It has additional functionalities compared to COBRApy (e.g. omics integration).\n",
    "\n",
    "COBRApy can read various model file types. We will use **SBML** (Systems Biology Markup Language) - one of the standard formats how to store a model. The advantage of this format is that it is both human an machine readable. This is what a reaction looks like:\n",
    "\n",
    "<img src=\"figs/sbml_rxn.png\" alt=\"SBML reaction\" style=\"width: 1000px;\"/>\n",
    "\n",
    "\n",
    "Metabolic models are often deposited in databases such as [BiGG Models](http://bigg.ucsd.edu/) or [BioModels](https://www.ebi.ac.uk/biomodels/).\n",
    "\n"
   ]
  },
  {
   "cell_type": "code",
   "execution_count": 1,
   "metadata": {},
   "outputs": [],
   "source": [
    "# import necessary packages\n",
    "import cobra  # cobrapy package\n",
    "import escher  # package for visualization\n",
    "import numpy as np  # many useful math & data analysis functions\n",
    "import matplotlib.pyplot as plt  # plotting"
   ]
  },
  {
   "cell_type": "code",
   "execution_count": 2,
   "metadata": {},
   "outputs": [],
   "source": [
    "# read the model\n",
    "model = cobra.io.read_sbml_model(\"models/iMM904.xml\")"
   ]
  },
  {
   "cell_type": "code",
   "execution_count": 3,
   "metadata": {},
   "outputs": [
    {
     "data": {
      "text/html": [
       "\n",
       "        <table>\n",
       "            <tr>\n",
       "                <td><strong>Name</strong></td>\n",
       "                <td>iMM904</td>\n",
       "            </tr><tr>\n",
       "                <td><strong>Memory address</strong></td>\n",
       "                <td>0x07f0b93225e10</td>\n",
       "            </tr><tr>\n",
       "                <td><strong>Number of metabolites</strong></td>\n",
       "                <td>1226</td>\n",
       "            </tr><tr>\n",
       "                <td><strong>Number of reactions</strong></td>\n",
       "                <td>1577</td>\n",
       "            </tr><tr>\n",
       "                <td><strong>Number of groups</strong></td>\n",
       "                <td>0</td>\n",
       "            </tr><tr>\n",
       "                <td><strong>Objective expression</strong></td>\n",
       "                <td>1.0*BIOMASS_SC5_notrace - 1.0*BIOMASS_SC5_notrace_reverse_93090</td>\n",
       "            </tr><tr>\n",
       "                <td><strong>Compartments</strong></td>\n",
       "                <td>cytosol, extracellular space, mitochondria, peroxisome/glyoxysome, endoplasmic reticulum, vacuole, golgi apparatus, nucleus</td>\n",
       "            </tr>\n",
       "          </table>"
      ],
      "text/plain": [
       "<Model iMM904 at 0x7f0b93225e10>"
      ]
     },
     "execution_count": 3,
     "metadata": {},
     "output_type": "execute_result"
    }
   ],
   "source": [
    "# basic overview of the model\n",
    "model"
   ]
  },
  {
   "cell_type": "code",
   "execution_count": 4,
   "metadata": {},
   "outputs": [
    {
     "data": {
      "text/plain": [
       "{'c': 'cytosol',\n",
       " 'e': 'extracellular space',\n",
       " 'm': 'mitochondria',\n",
       " 'x': 'peroxisome/glyoxysome',\n",
       " 'r': 'endoplasmic reticulum',\n",
       " 'v': 'vacuole',\n",
       " 'g': 'golgi apparatus',\n",
       " 'n': 'nucleus'}"
      ]
     },
     "execution_count": 4,
     "metadata": {},
     "output_type": "execute_result"
    }
   ],
   "source": [
    "# check what compartments the model has\n",
    "model.compartments"
   ]
  },
  {
   "cell_type": "code",
   "execution_count": 5,
   "metadata": {},
   "outputs": [
    {
     "data": {
      "text/plain": [
       "[<Metabolite 2dr5p_c at 0x7f0c04220510>,\n",
       " <Metabolite 2hb_c at 0x7f0b93225c10>,\n",
       " <Metabolite 2hb_e at 0x7f0b93186510>,\n",
       " <Metabolite 2hhxdal_c at 0x7f0b93188f90>,\n",
       " <Metabolite 2hp6mbq_m at 0x7f0bc99f0650>,\n",
       " <Metabolite 2hp6mp_m at 0x7f0bc99f06d0>,\n",
       " <Metabolite 2hpmhmbq_m at 0x7f0bc99f0bd0>,\n",
       " <Metabolite 2hpmmbq_m at 0x7f0bc99f1110>,\n",
       " <Metabolite 2ippm_c at 0x7f0bc99f12d0>,\n",
       " <Metabolite 2kmb_c at 0x7f0bc99f0a50>]"
      ]
     },
     "execution_count": 5,
     "metadata": {},
     "output_type": "execute_result"
    }
   ],
   "source": [
    "# access metabolites\n",
    "model.metabolites[:10]  # show only the first ten metabolites"
   ]
  },
  {
   "cell_type": "code",
   "execution_count": 6,
   "metadata": {},
   "outputs": [
    {
     "data": {
      "text/html": [
       "\n",
       "        <table>\n",
       "            <tr>\n",
       "                <td><strong>Metabolite identifier</strong></td><td>glc__D_c</td>\n",
       "            </tr><tr>\n",
       "                <td><strong>Name</strong></td><td>D-Glucose</td>\n",
       "            </tr><tr>\n",
       "                <td><strong>Memory address</strong></td>\n",
       "                <td>0x07f0bc9833dd0</td>\n",
       "            </tr><tr>\n",
       "                <td><strong>Formula</strong></td><td>C6H12O6</td>\n",
       "            </tr><tr>\n",
       "                <td><strong>Compartment</strong></td><td>c</td>\n",
       "            </tr><tr>\n",
       "                <td><strong>In 11 reaction(s)</strong></td><td>\n",
       "                    MALT, GLCGSD, GLCt1, TREH, 13BGH, SBTR, HEX1, GLUK, GALS3, GLCtv, DGGH</td>\n",
       "            </tr>\n",
       "        </table>"
      ],
      "text/plain": [
       "<Metabolite glc__D_c at 0x7f0bc9833dd0>"
      ]
     },
     "execution_count": 6,
     "metadata": {},
     "output_type": "execute_result"
    }
   ],
   "source": [
    "# access one metabolite with its ID and save it as a variable \n",
    "glucose = model.metabolites.get_by_id(\"glc__D_c\") \n",
    "# model.metabolites.glc__D_c - shorter syntax, but does not work if metabolite ID starts with a number / contains brackets\n",
    "glucose"
   ]
  },
  {
   "cell_type": "code",
   "execution_count": 7,
   "metadata": {},
   "outputs": [
    {
     "data": {
      "text/plain": [
       "'glc__D_c'"
      ]
     },
     "execution_count": 7,
     "metadata": {},
     "output_type": "execute_result"
    }
   ],
   "source": [
    "# metabolite ID - unique identifier\n",
    "glucose.id"
   ]
  },
  {
   "cell_type": "code",
   "execution_count": 8,
   "metadata": {},
   "outputs": [
    {
     "data": {
      "text/plain": [
       "'D-Glucose'"
      ]
     },
     "execution_count": 8,
     "metadata": {},
     "output_type": "execute_result"
    }
   ],
   "source": [
    "# metabolite name - not unique (one metabolite can be present in several compartments)\n",
    "glucose.name"
   ]
  },
  {
   "cell_type": "code",
   "execution_count": 9,
   "metadata": {},
   "outputs": [
    {
     "data": {
      "text/plain": [
       "'C6H12O6'"
      ]
     },
     "execution_count": 9,
     "metadata": {},
     "output_type": "execute_result"
    }
   ],
   "source": [
    "# formula\n",
    "glucose.formula"
   ]
  },
  {
   "cell_type": "code",
   "execution_count": 10,
   "metadata": {},
   "outputs": [
    {
     "data": {
      "text/plain": [
       "{'sbo': 'SBO:0000247',\n",
       " 'bigg.metabolite': 'glc__D',\n",
       " 'biocyc': 'META:Glucopyranose',\n",
       " 'chebi': ['CHEBI:12965', 'CHEBI:20999', 'CHEBI:4167', 'CHEBI:17634'],\n",
       " 'hmdb': ['HMDB00122', 'HMDB06564'],\n",
       " 'inchi_key': 'WQZGKKKJIJFFOK-GASJEMHNSA-N',\n",
       " 'kegg.compound': 'C00031',\n",
       " 'kegg.drug': 'D00009',\n",
       " 'metanetx.chemical': 'MNXM41',\n",
       " 'sabiork': ['1406', '1407'],\n",
       " 'seed.compound': ['cpd26821', 'cpd00027']}"
      ]
     },
     "execution_count": 10,
     "metadata": {},
     "output_type": "execute_result"
    }
   ],
   "source": [
    "# database identifiers\n",
    "glucose.annotation"
   ]
  },
  {
   "cell_type": "code",
   "execution_count": 11,
   "metadata": {},
   "outputs": [
    {
     "data": {
      "text/plain": [
       "frozenset({<Reaction 13BGH at 0x7f0bc942ced0>,\n",
       "           <Reaction DGGH at 0x7f0bc93e97d0>,\n",
       "           <Reaction GALS3 at 0x7f0bc8d68310>,\n",
       "           <Reaction GLCGSD at 0x7f0bc8d08a50>,\n",
       "           <Reaction GLCt1 at 0x7f0bc8cb9e90>,\n",
       "           <Reaction GLCtv at 0x7f0bc8cb9f90>,\n",
       "           <Reaction GLUK at 0x7f0bc8e16f10>,\n",
       "           <Reaction HEX1 at 0x7f0bc8c67dd0>,\n",
       "           <Reaction MALT at 0x7f0bc8b26210>,\n",
       "           <Reaction SBTR at 0x7f0bc671dcd0>,\n",
       "           <Reaction TREH at 0x7f0bc6665e90>})"
      ]
     },
     "execution_count": 11,
     "metadata": {},
     "output_type": "execute_result"
    }
   ],
   "source": [
    "# list of participating reactions\n",
    "glucose.reactions"
   ]
  },
  {
   "cell_type": "code",
   "execution_count": 12,
   "metadata": {},
   "outputs": [
    {
     "data": {
      "text/plain": [
       "[<Reaction CITtcp at 0x7f0bc942cf50>,\n",
       " <Reaction 13BGH at 0x7f0bc942ced0>,\n",
       " <Reaction 13BGHe at 0x7f0bc942f4d0>,\n",
       " <Reaction 13GS at 0x7f0bc942fe50>,\n",
       " <Reaction 16GS at 0x7f0bc9439190>,\n",
       " <Reaction 23CAPPD at 0x7f0bc9439e50>,\n",
       " <Reaction 2DDA7Ptm at 0x7f0bc9439090>,\n",
       " <Reaction 2DHPtm at 0x7f0bc942fa10>,\n",
       " <Reaction 2DOXG6PP at 0x7f0bc9439150>,\n",
       " <Reaction 2HBO at 0x7f0bc94425d0>]"
      ]
     },
     "execution_count": 12,
     "metadata": {},
     "output_type": "execute_result"
    }
   ],
   "source": [
    "# access model reactions \n",
    "model.reactions[:10]  # print only first ten"
   ]
  },
  {
   "cell_type": "code",
   "execution_count": 13,
   "metadata": {},
   "outputs": [
    {
     "data": {
      "text/html": [
       "\n",
       "        <table>\n",
       "            <tr>\n",
       "                <td><strong>Reaction identifier</strong></td><td>HEX1</td>\n",
       "            </tr><tr>\n",
       "                <td><strong>Name</strong></td><td>Hexokinase (D-glucose:ATP)</td>\n",
       "            </tr><tr>\n",
       "                <td><strong>Memory address</strong></td>\n",
       "                <td>0x07f0bc8c67dd0</td>\n",
       "            </tr><tr>\n",
       "                <td><strong>Stoichiometry</strong></td>\n",
       "                <td>\n",
       "                    <p style='text-align:right'>atp_c + glc__D_c --> adp_c + g6p_c + h_c</p>\n",
       "                    <p style='text-align:right'>ATP C10H12N5O13P3 + D-Glucose --> ADP C10H12N5O10P2 + D-Glucose 6-phosphate + H+</p>\n",
       "                </td>\n",
       "            </tr><tr>\n",
       "                <td><strong>GPR</strong></td><td>YFR053C or YGL253W or YCL040W</td>\n",
       "            </tr><tr>\n",
       "                <td><strong>Lower bound</strong></td><td>0.0</td>\n",
       "            </tr><tr>\n",
       "                <td><strong>Upper bound</strong></td><td>999999.0</td>\n",
       "            </tr>\n",
       "        </table>\n",
       "        "
      ],
      "text/plain": [
       "<Reaction HEX1 at 0x7f0bc8c67dd0>"
      ]
     },
     "execution_count": 13,
     "metadata": {},
     "output_type": "execute_result"
    }
   ],
   "source": [
    "# access one reaction\n",
    "hexokinase = model.reactions.HEX1  # (or model.reactions.get_by_id(\"HEX1\"))\n",
    "hexokinase"
   ]
  },
  {
   "cell_type": "code",
   "execution_count": 14,
   "metadata": {},
   "outputs": [
    {
     "data": {
      "text/plain": [
       "{<Metabolite atp_c at 0x7f0b936fc090>: -1.0,\n",
       " <Metabolite glc__D_c at 0x7f0bc9833dd0>: -1.0,\n",
       " <Metabolite adp_c at 0x7f0bc997a690>: 1.0,\n",
       " <Metabolite g6p_c at 0x7f0bc9885090>: 1.0,\n",
       " <Metabolite h_c at 0x7f0bc97f2dd0>: 1.0}"
      ]
     },
     "execution_count": 14,
     "metadata": {},
     "output_type": "execute_result"
    }
   ],
   "source": [
    "# participating metabolites - negative stoichiometric coefficient - reactants; positive - products\n",
    "hexokinase.metabolites"
   ]
  },
  {
   "cell_type": "code",
   "execution_count": 15,
   "metadata": {},
   "outputs": [
    {
     "data": {
      "text/plain": [
       "999999.0"
      ]
     },
     "execution_count": 15,
     "metadata": {},
     "output_type": "execute_result"
    }
   ],
   "source": [
    "# upper bound (UB) of the reaction flux - maximum possible flux\n",
    "# typically set to an arbitrary value like 999999 or 1000\n",
    "# this represents an unlimited flux (we cannot set it to infinity, so we use arbitrarily high values)\n",
    "hexokinase.upper_bound"
   ]
  },
  {
   "cell_type": "code",
   "execution_count": 16,
   "metadata": {},
   "outputs": [
    {
     "data": {
      "text/plain": [
       "0.0"
      ]
     },
     "execution_count": 16,
     "metadata": {},
     "output_type": "execute_result"
    }
   ],
   "source": [
    "# lower bound (LB) of the reaction flux\n",
    "# irreversible reactions have LB=0, reversible have LB=-999999 \n",
    "hexokinase.lower_bound"
   ]
  },
  {
   "cell_type": "code",
   "execution_count": 17,
   "metadata": {},
   "outputs": [
    {
     "data": {
      "text/plain": [
       "False"
      ]
     },
     "execution_count": 17,
     "metadata": {},
     "output_type": "execute_result"
    }
   ],
   "source": [
    "# check if the reaction is reversible (you can also see it from the lower bound)\n",
    "hexokinase.reversibility"
   ]
  },
  {
   "cell_type": "markdown",
   "metadata": {},
   "source": [
    "## Important reactions\n",
    "### Exchange reactions\n",
    "\n",
    "Exchange reactions are arbitrary reactions that let metabolites enter and leave the modelling system. Their lower and upper bounds can be changed according to experimentally measured uptake and secretion rates.\n",
    "\n",
    "The exchange reactions have the form \"M_e -> \" or \"M_e <-> \". There is a reactant but no product. \n",
    "\n",
    "The model also contains the individual transporter reactions, e.g. \"M_c -> M_e\" - this represents a transporter that transports metabolite M from cytoplasm to extracellular space. \n",
    "\n",
    "So why do we need the exchange reactions?\n",
    "\n",
    "* Steady state assumption. Metabolites cannot accumulate (Sv=0), so we need reactions that allow metabolites to enter and leave the system.\n",
    "\n",
    "* There are often several transporters for the same metabolite and one transporter can often transport several types of molecules. But when we measure exchange rates in the lab, we don't know which transporter is doing the job, we just see the overall rate. Exchange reactions conveniently allow us to set the overall rate and we don't need to specify the rates for the individual transporters."
   ]
  },
  {
   "cell_type": "code",
   "execution_count": 18,
   "metadata": {},
   "outputs": [
    {
     "data": {
      "text/plain": [
       "[<Reaction EX_epistest_SC_e at 0x7f0bc9450dd0>,\n",
       " <Reaction EX_epist_e at 0x7f0bc9454c50>,\n",
       " <Reaction EX_ergst_e at 0x7f0bc8fc3cd0>,\n",
       " <Reaction EX_ergstest_SC_e at 0x7f0bc8fc3e90>,\n",
       " <Reaction EX_13BDglcn_e at 0x7f0bc8fca290>,\n",
       " <Reaction EX_etha_e at 0x7f0bc8fca450>,\n",
       " <Reaction EX_2hb_e at 0x7f0bc8fca0d0>,\n",
       " <Reaction EX_etoh_e at 0x7f0bc8fce350>,\n",
       " <Reaction EX_fe2_e at 0x7f0bc8fcac10>,\n",
       " <Reaction EX_fecost_e at 0x7f0bc8fce8d0>]"
      ]
     },
     "execution_count": 18,
     "metadata": {},
     "output_type": "execute_result"
    }
   ],
   "source": [
    "# list of exchange reactions. IDs typically start with \"EX_\"\n",
    "model.exchanges[:10]"
   ]
  },
  {
   "cell_type": "markdown",
   "metadata": {},
   "source": [
    "**Glucose uptake rate**  \n",
    "Notice how the reaction is defined. If it is going forward, glucose leaves the system - it is secreted. Reverse direction indicates uptake.\n",
    "In this model, glucose has a default LB = -10. This means the maximum uptake rate is 10 mmol/(gDW*h)"
   ]
  },
  {
   "cell_type": "code",
   "execution_count": 19,
   "metadata": {},
   "outputs": [
    {
     "data": {
      "text/html": [
       "\n",
       "        <table>\n",
       "            <tr>\n",
       "                <td><strong>Reaction identifier</strong></td><td>EX_glc__D_e</td>\n",
       "            </tr><tr>\n",
       "                <td><strong>Name</strong></td><td>D-Glucose exchange</td>\n",
       "            </tr><tr>\n",
       "                <td><strong>Memory address</strong></td>\n",
       "                <td>0x07f0bc8f71050</td>\n",
       "            </tr><tr>\n",
       "                <td><strong>Stoichiometry</strong></td>\n",
       "                <td>\n",
       "                    <p style='text-align:right'>glc__D_e <=></p>\n",
       "                    <p style='text-align:right'>D-Glucose <=></p>\n",
       "                </td>\n",
       "            </tr><tr>\n",
       "                <td><strong>GPR</strong></td><td></td>\n",
       "            </tr><tr>\n",
       "                <td><strong>Lower bound</strong></td><td>-10.0</td>\n",
       "            </tr><tr>\n",
       "                <td><strong>Upper bound</strong></td><td>999999.0</td>\n",
       "            </tr>\n",
       "        </table>\n",
       "        "
      ],
      "text/plain": [
       "<Reaction EX_glc__D_e at 0x7f0bc8f71050>"
      ]
     },
     "execution_count": 19,
     "metadata": {},
     "output_type": "execute_result"
    }
   ],
   "source": [
    "model.reactions.EX_glc__D_e "
   ]
  },
  {
   "cell_type": "markdown",
   "metadata": {},
   "source": [
    "### Growth medium\n",
    "Growth medium typically contains one or more carbon sources, nitrogen source, water and various ions. \n",
    "\n",
    "The values are **lower bounds** of the uptake rates [mmol/gDW h]. Some metabolites have a default value (e.g. glucose and O2)  based on measurements. Others have an unlimited uptake (value of 999999), meaning that the cells can take up as much as they want.\n",
    "Note that they are shown as abs. values (if you look at the LB and UB of exchange reactions, uptake rates have negative value, secretion rates positive)."
   ]
  },
  {
   "cell_type": "code",
   "execution_count": 20,
   "metadata": {},
   "outputs": [
    {
     "data": {
      "text/plain": [
       "{'EX_fe2_e': 999999.0,\n",
       " 'EX_glc__D_e': 10.0,\n",
       " 'EX_h2o_e': 999999.0,\n",
       " 'EX_h_e': 999999.0,\n",
       " 'EX_k_e': 999999.0,\n",
       " 'EX_na1_e': 999999.0,\n",
       " 'EX_so4_e': 999999.0,\n",
       " 'EX_nh4_e': 999999.0,\n",
       " 'EX_o2_e': 2.0,\n",
       " 'EX_pi_e': 999999.0}"
      ]
     },
     "execution_count": 20,
     "metadata": {},
     "output_type": "execute_result"
    }
   ],
   "source": [
    "# Medium components that cells can take up. \n",
    "model.medium"
   ]
  },
  {
   "cell_type": "code",
   "execution_count": 21,
   "metadata": {},
   "outputs": [
    {
     "name": "stdout",
     "output_type": "stream",
     "text": [
      "EX_fe2_e, ('Fe2+ exchange', 999999.0)\n",
      "EX_glc__D_e, ('D-Glucose exchange', 10.0)\n",
      "EX_h2o_e, ('H2O exchange', 999999.0)\n",
      "EX_h_e, ('H+ exchange', 999999.0)\n",
      "EX_k_e, ('K+ exchange', 999999.0)\n",
      "EX_na1_e, ('Sodium exchange', 999999.0)\n",
      "EX_so4_e, ('Sulfate exchange', 999999.0)\n",
      "EX_nh4_e, ('Ammonia exchange', 999999.0)\n",
      "EX_o2_e, ('O2 exchange', 2.0)\n",
      "EX_pi_e, ('Phosphate exchange', 999999.0)\n"
     ]
    }
   ],
   "source": [
    "# display reaction names so we know what is what\n",
    "for element in model.medium:\n",
    "    print(f\"{element}, {model.reactions.get_by_id(element).name, model.medium[element]}\")"
   ]
  },
  {
   "cell_type": "markdown",
   "metadata": {},
   "source": [
    "### Biomass reaction\n",
    "\n",
    "An artificial reaction that represents a drain of metabolites towards growth. It represents the cellular composition - the amount of amino acids in proteins, DNA, RNA, lipids, carbohydrates, ATP..."
   ]
  },
  {
   "cell_type": "code",
   "execution_count": 22,
   "metadata": {},
   "outputs": [
    {
     "data": {
      "text/html": [
       "\n",
       "        <table>\n",
       "            <tr>\n",
       "                <td><strong>Reaction identifier</strong></td><td>BIOMASS_SC5_notrace</td>\n",
       "            </tr><tr>\n",
       "                <td><strong>Name</strong></td><td>Biomass SC5 notrace</td>\n",
       "            </tr><tr>\n",
       "                <td><strong>Memory address</strong></td>\n",
       "                <td>0x07f0bc65e1550</td>\n",
       "            </tr><tr>\n",
       "                <td><strong>Stoichiometry</strong></td>\n",
       "                <td>\n",
       "                    <p style='text-align:right'>1.1348 13BDglcn_c + 0.4588 ala__L_c + 0.046 amp_c + 0.1607 arg__L_c + 0.1017 asn__L_c + 0.2975 asp__L_c + 59.276 atp_c + 0.0447 cmp_c + 0.0066 cys__L_c + 0.0036 damp_c + 0.0024 dcmp_c + 0.0024...</p>\n",
       "                    <p style='text-align:right'>1.1348 1 3 beta D Glucan C6H10O5 + 0.4588 L-Alanine + 0.046 AMP C10H12N5O7P + 0.1607 L-Arginine + 0.1017 L-Asparagine + 0.2975 L-Aspartate + 59.276 ATP C10H12N5O13P3 + 0.0447 CMP C9H12N3O8P +...</p>\n",
       "                </td>\n",
       "            </tr><tr>\n",
       "                <td><strong>GPR</strong></td><td></td>\n",
       "            </tr><tr>\n",
       "                <td><strong>Lower bound</strong></td><td>0.0</td>\n",
       "            </tr><tr>\n",
       "                <td><strong>Upper bound</strong></td><td>999999.0</td>\n",
       "            </tr>\n",
       "        </table>\n",
       "        "
      ],
      "text/plain": [
       "<Reaction BIOMASS_SC5_notrace at 0x7f0bc65e1550>"
      ]
     },
     "execution_count": 22,
     "metadata": {},
     "output_type": "execute_result"
    }
   ],
   "source": [
    "model.reactions.BIOMASS_SC5_notrace"
   ]
  },
  {
   "cell_type": "markdown",
   "metadata": {},
   "source": [
    "### ATP maintenance reaction\n",
    "Another artificial reaction which represents non-growth associated maintenance energy. This is energy that cells need just to survive (even if they do not grow). It represents energy use by processes like maintenance of chemical gradients or macromolecule turnover. It was shown that [it improves flux predictions if it is included as a model parameter.](https://doi.org/10.1371/journal.pcbi.1009022)"
   ]
  },
  {
   "cell_type": "code",
   "execution_count": 23,
   "metadata": {},
   "outputs": [
    {
     "data": {
      "text/html": [
       "\n",
       "        <table>\n",
       "            <tr>\n",
       "                <td><strong>Reaction identifier</strong></td><td>ATPM</td>\n",
       "            </tr><tr>\n",
       "                <td><strong>Name</strong></td><td>ATP maintenance requirement</td>\n",
       "            </tr><tr>\n",
       "                <td><strong>Memory address</strong></td>\n",
       "                <td>0x07f0bc91dcc10</td>\n",
       "            </tr><tr>\n",
       "                <td><strong>Stoichiometry</strong></td>\n",
       "                <td>\n",
       "                    <p style='text-align:right'>atp_c + h2o_c --> adp_c + h_c + pi_c</p>\n",
       "                    <p style='text-align:right'>ATP C10H12N5O13P3 + H2O H2O --> ADP C10H12N5O10P2 + H+ + Phosphate</p>\n",
       "                </td>\n",
       "            </tr><tr>\n",
       "                <td><strong>GPR</strong></td><td></td>\n",
       "            </tr><tr>\n",
       "                <td><strong>Lower bound</strong></td><td>1.0</td>\n",
       "            </tr><tr>\n",
       "                <td><strong>Upper bound</strong></td><td>1.0</td>\n",
       "            </tr>\n",
       "        </table>\n",
       "        "
      ],
      "text/plain": [
       "<Reaction ATPM at 0x7f0bc91dcc10>"
      ]
     },
     "execution_count": 23,
     "metadata": {},
     "output_type": "execute_result"
    }
   ],
   "source": [
    "model.reactions.ATPM "
   ]
  },
  {
   "cell_type": "markdown",
   "metadata": {},
   "source": [
    "## Genes\n",
    "Typically models have **gene protein reaction (GPR) rules** - associations of reactions with genes.\n",
    "One reaction is often associated with several genes and the relationship is expressed with **AND** / **OR** rules.\n",
    "* **AND** rule - e.g. **Gene1 AND Gene2** - both genes are needed to catalyze reaction (e.g. two subunits)\n",
    "* **OR** rule - **Gene1 OR Gene2** - isoenzymes\n",
    "\n",
    "Also combinations are possible, e.g. **(Gene1 AND Gene2) OR (Gene1 AND Gene3)**.   \n",
    "\n",
    "One gene often participates in several reactions - e.g. promiscuous enzymes."
   ]
  },
  {
   "cell_type": "code",
   "execution_count": 24,
   "metadata": {},
   "outputs": [
    {
     "data": {
      "text/plain": [
       "[<Gene YHR104W at 0x7f0bc9632950>,\n",
       " <Gene YDR368W at 0x7f0bc9605050>,\n",
       " <Gene YGR282C at 0x7f0bc9605350>,\n",
       " <Gene YOL086C at 0x7f0bc9605610>,\n",
       " <Gene YLR300W at 0x7f0bc96058d0>,\n",
       " <Gene YFR055W at 0x7f0bc9605c10>,\n",
       " <Gene YGL184C at 0x7f0bc96141d0>,\n",
       " <Gene YDR261C at 0x7f0bc9614350>,\n",
       " <Gene YDL168W at 0x7f0bc9614610>,\n",
       " <Gene YOR190W at 0x7f0bc9605fd0>]"
      ]
     },
     "execution_count": 24,
     "metadata": {},
     "output_type": "execute_result"
    }
   ],
   "source": [
    "# access model genes\n",
    "model.genes[:10]"
   ]
  },
  {
   "cell_type": "code",
   "execution_count": 25,
   "metadata": {},
   "outputs": [
    {
     "data": {
      "text/plain": [
       "'YFR053C or YGL253W or YCL040W'"
      ]
     },
     "execution_count": 25,
     "metadata": {},
     "output_type": "execute_result"
    }
   ],
   "source": [
    "# examine GPR rule for hexokinase\n",
    "hexokinase.gene_reaction_rule"
   ]
  },
  {
   "cell_type": "code",
   "execution_count": 26,
   "metadata": {},
   "outputs": [
    {
     "data": {
      "text/plain": [
       "frozenset({<Reaction ALCD19y at 0x7f0bc937e5d0>,\n",
       "           <Reaction ARABR at 0x7f0bc928de90>,\n",
       "           <Reaction LALDO3 at 0x7f0bc8b2df90>,\n",
       "           <Reaction SBTR at 0x7f0bc671dcd0>,\n",
       "           <Reaction XYLR at 0x7f0bc6621f10>})"
      ]
     },
     "execution_count": 26,
     "metadata": {},
     "output_type": "execute_result"
    }
   ],
   "source": [
    "# for a given gene, find all reactions where it occurs\n",
    "model.genes.get_by_id(\"YHR104W\").reactions"
   ]
  },
  {
   "cell_type": "markdown",
   "metadata": {},
   "source": [
    "## Looking up stuff\n",
    "If you don't know the name of your metabolite/reaction/gene, you can search for certain words in the model.  \n",
    "Note: the search is case sensitive."
   ]
  },
  {
   "cell_type": "code",
   "execution_count": 27,
   "metadata": {},
   "outputs": [
    {
     "data": {
      "text/plain": [
       "[<Metabolite 6dg_c at 0x7f0bc99ce5d0>,\n",
       " <Metabolite g1p_c at 0x7f0bc9878410>,\n",
       " <Metabolite g6p_c at 0x7f0bc9885090>,\n",
       " <Metabolite g6p_r at 0x7f0bc98875d0>,\n",
       " <Metabolite glc__D_c at 0x7f0bc9833dd0>,\n",
       " <Metabolite glc__D_e at 0x7f0bc9835550>,\n",
       " <Metabolite glc__D_v at 0x7f0bc9838750>]"
      ]
     },
     "execution_count": 27,
     "metadata": {},
     "output_type": "execute_result"
    }
   ],
   "source": [
    "# you can search for the metabolite name\n",
    "model.metabolites.query(\"Glucose\", \"name\")"
   ]
  },
  {
   "cell_type": "code",
   "execution_count": 28,
   "metadata": {},
   "outputs": [
    {
     "data": {
      "text/plain": [
       "[<Metabolite 14glun_c at 0x7f0bc9a0ed10>,\n",
       " <Metabolite fru_c at 0x7f0bc9870890>,\n",
       " <Metabolite fru_e at 0x7f0bc9870ed0>,\n",
       " <Metabolite gal_c at 0x7f0bc988e210>,\n",
       " <Metabolite gal_e at 0x7f0bc988eed0>,\n",
       " <Metabolite glc__D_c at 0x7f0bc9833dd0>,\n",
       " <Metabolite glc__D_e at 0x7f0bc9835550>,\n",
       " <Metabolite glc__D_v at 0x7f0bc9838750>,\n",
       " <Metabolite inost_c at 0x7f0bc9806e10>,\n",
       " <Metabolite inost_e at 0x7f0bc9809250>,\n",
       " <Metabolite man_c at 0x7f0bc9818bd0>,\n",
       " <Metabolite man_e at 0x7f0bc981cd50>,\n",
       " <Metabolite srb__L_c at 0x7f0bc96f7910>,\n",
       " <Metabolite srb__L_e at 0x7f0bc96fa1d0>]"
      ]
     },
     "execution_count": 28,
     "metadata": {},
     "output_type": "execute_result"
    }
   ],
   "source": [
    "# search for all metabolites with a given formula\n",
    "model.metabolites.query(\"C6H12O6\", \"formula\")"
   ]
  },
  {
   "cell_type": "code",
   "execution_count": 29,
   "metadata": {},
   "outputs": [
    {
     "data": {
      "text/plain": [
       "[<Reaction HEX1 at 0x7f0bc8c67dd0>,\n",
       " <Reaction HEX4 at 0x7f0bc8c5fa90>,\n",
       " <Reaction HEX7 at 0x7f0bc8c67f90>]"
      ]
     },
     "execution_count": 29,
     "metadata": {},
     "output_type": "execute_result"
    }
   ],
   "source": [
    "# reaction name\n",
    "model.reactions.query(\"Hexokinase\", \"name\")"
   ]
  },
  {
   "cell_type": "markdown",
   "metadata": {},
   "source": [
    "## Changing constraints\n",
    "Often we measure uptake and secretion rates of metabolites when performing cell cultivations. E.g. we might measure glucose uptake and ethanol secretion rate. We integrate these into the model by changing the **lower and upper bounds of the exchange reactions**.\n",
    "\n",
    "Typically, the units of the exchange reactions are mmol/(gDW h).\n",
    "Negative values - uptake, positive - secretion."
   ]
  },
  {
   "cell_type": "code",
   "execution_count": 30,
   "metadata": {},
   "outputs": [
    {
     "data": {
      "text/html": [
       "\n",
       "        <table>\n",
       "            <tr>\n",
       "                <td><strong>Reaction identifier</strong></td><td>EX_glc__D_e</td>\n",
       "            </tr><tr>\n",
       "                <td><strong>Name</strong></td><td>D-Glucose exchange</td>\n",
       "            </tr><tr>\n",
       "                <td><strong>Memory address</strong></td>\n",
       "                <td>0x07f0bc8f71050</td>\n",
       "            </tr><tr>\n",
       "                <td><strong>Stoichiometry</strong></td>\n",
       "                <td>\n",
       "                    <p style='text-align:right'>glc__D_e <=></p>\n",
       "                    <p style='text-align:right'>D-Glucose <=></p>\n",
       "                </td>\n",
       "            </tr><tr>\n",
       "                <td><strong>GPR</strong></td><td></td>\n",
       "            </tr><tr>\n",
       "                <td><strong>Lower bound</strong></td><td>-10.0</td>\n",
       "            </tr><tr>\n",
       "                <td><strong>Upper bound</strong></td><td>999999.0</td>\n",
       "            </tr>\n",
       "        </table>\n",
       "        "
      ],
      "text/plain": [
       "<Reaction EX_glc__D_e at 0x7f0bc8f71050>"
      ]
     },
     "execution_count": 30,
     "metadata": {},
     "output_type": "execute_result"
    }
   ],
   "source": [
    "# changing constraints\n",
    "glc_uptake = model.reactions.get_by_id(\"EX_glc__D_e\")\n",
    "glc_uptake"
   ]
  },
  {
   "cell_type": "code",
   "execution_count": 31,
   "metadata": {},
   "outputs": [
    {
     "data": {
      "text/html": [
       "\n",
       "        <table>\n",
       "            <tr>\n",
       "                <td><strong>Reaction identifier</strong></td><td>EX_glc__D_e</td>\n",
       "            </tr><tr>\n",
       "                <td><strong>Name</strong></td><td>D-Glucose exchange</td>\n",
       "            </tr><tr>\n",
       "                <td><strong>Memory address</strong></td>\n",
       "                <td>0x07f0bc8f71050</td>\n",
       "            </tr><tr>\n",
       "                <td><strong>Stoichiometry</strong></td>\n",
       "                <td>\n",
       "                    <p style='text-align:right'>glc__D_e --></p>\n",
       "                    <p style='text-align:right'>D-Glucose --></p>\n",
       "                </td>\n",
       "            </tr><tr>\n",
       "                <td><strong>GPR</strong></td><td></td>\n",
       "            </tr><tr>\n",
       "                <td><strong>Lower bound</strong></td><td>0</td>\n",
       "            </tr><tr>\n",
       "                <td><strong>Upper bound</strong></td><td>999999.0</td>\n",
       "            </tr>\n",
       "        </table>\n",
       "        "
      ],
      "text/plain": [
       "<Reaction EX_glc__D_e at 0x7f0bc8f71050>"
      ]
     },
     "execution_count": 31,
     "metadata": {},
     "output_type": "execute_result"
    }
   ],
   "source": [
    "# disable glucose uptake\n",
    "glc_uptake.lower_bound = 0  # or directly model.reactions.EX_glc__D_e.lower_bound = 0\n",
    "glc_uptake"
   ]
  },
  {
   "cell_type": "code",
   "execution_count": 32,
   "metadata": {},
   "outputs": [],
   "source": [
    "# set it back to original value\n",
    "glc_uptake.lower_bound = -10"
   ]
  },
  {
   "cell_type": "markdown",
   "metadata": {},
   "source": [
    "Often you will test various conditions (e.g. various carbon sources, various levels of substrates etc...).\n",
    "You always need to make sure to reset the values back to the original value.\n",
    "A very helpful function for this is **with statement**. *What happens in with statement stays in with statement.*"
   ]
  },
  {
   "cell_type": "code",
   "execution_count": 33,
   "metadata": {},
   "outputs": [
    {
     "name": "stdout",
     "output_type": "stream",
     "text": [
      "Uptake rate inside 'with' statement: -5\n",
      "Uptake rate outside 'with' statement: -10\n"
     ]
    }
   ],
   "source": [
    "with model:\n",
    "    # everything that happens here in the indented block is reset afterwards\n",
    "    glc_uptake.lower_bound = -5\n",
    "    print(f\"Uptake rate inside 'with' statement: {glc_uptake.lower_bound}\")\n",
    "    \n",
    "print(f\"Uptake rate outside 'with' statement: {glc_uptake.lower_bound}\")"
   ]
  },
  {
   "cell_type": "markdown",
   "metadata": {},
   "source": [
    "**Note**  \n",
    "Normally in jupyter notebooks, if something is on the last line, it will be automatically printed (e.g. if you just type ```glc_uptake.lower_bound```). If you want to print something inside of a \"with statement\" or a \"for loop\", you need to put it inside of a ```print()``` function. "
   ]
  },
  {
   "cell_type": "markdown",
   "metadata": {},
   "source": [
    "## Performing simulations\n",
    "\n",
    "Before running FBA we have to choose an **objective function**, that we want to maximize or minimize. Typically this is maximiation of biomass production. Another option would be maximization of secretion of a certain product (e.g. ethanol)."
   ]
  },
  {
   "cell_type": "code",
   "execution_count": 34,
   "metadata": {},
   "outputs": [],
   "source": [
    "# Set the objective. Biomass reaction - a typical objective.   \n",
    "model.objective = \"BIOMASS_SC5_notrace\""
   ]
  },
  {
   "cell_type": "code",
   "execution_count": 35,
   "metadata": {},
   "outputs": [
    {
     "data": {
      "text/html": [
       "<strong><em>Optimal</em> solution with objective value 0.288</strong><br><div>\n",
       "<style scoped>\n",
       "    .dataframe tbody tr th:only-of-type {\n",
       "        vertical-align: middle;\n",
       "    }\n",
       "\n",
       "    .dataframe tbody tr th {\n",
       "        vertical-align: top;\n",
       "    }\n",
       "\n",
       "    .dataframe thead th {\n",
       "        text-align: right;\n",
       "    }\n",
       "</style>\n",
       "<table border=\"1\" class=\"dataframe\">\n",
       "  <thead>\n",
       "    <tr style=\"text-align: right;\">\n",
       "      <th></th>\n",
       "      <th>fluxes</th>\n",
       "      <th>reduced_costs</th>\n",
       "    </tr>\n",
       "  </thead>\n",
       "  <tbody>\n",
       "    <tr>\n",
       "      <th>CITtcp</th>\n",
       "      <td>0.000000</td>\n",
       "      <td>-3.469447e-18</td>\n",
       "    </tr>\n",
       "    <tr>\n",
       "      <th>13BGH</th>\n",
       "      <td>0.000000</td>\n",
       "      <td>-4.751566e-02</td>\n",
       "    </tr>\n",
       "    <tr>\n",
       "      <th>13BGHe</th>\n",
       "      <td>0.000000</td>\n",
       "      <td>0.000000e+00</td>\n",
       "    </tr>\n",
       "    <tr>\n",
       "      <th>13GS</th>\n",
       "      <td>0.326670</td>\n",
       "      <td>0.000000e+00</td>\n",
       "    </tr>\n",
       "    <tr>\n",
       "      <th>16GS</th>\n",
       "      <td>0.000000</td>\n",
       "      <td>-9.503132e-02</td>\n",
       "    </tr>\n",
       "    <tr>\n",
       "      <th>...</th>\n",
       "      <td>...</td>\n",
       "      <td>...</td>\n",
       "    </tr>\n",
       "    <tr>\n",
       "      <th>PYDXO</th>\n",
       "      <td>0.000000</td>\n",
       "      <td>0.000000e+00</td>\n",
       "    </tr>\n",
       "    <tr>\n",
       "      <th>PYK</th>\n",
       "      <td>17.721990</td>\n",
       "      <td>0.000000e+00</td>\n",
       "    </tr>\n",
       "    <tr>\n",
       "      <th>PYNP2r</th>\n",
       "      <td>0.000000</td>\n",
       "      <td>-0.000000e+00</td>\n",
       "    </tr>\n",
       "    <tr>\n",
       "      <th>PYR5CDm</th>\n",
       "      <td>0.000000</td>\n",
       "      <td>-2.969729e-02</td>\n",
       "    </tr>\n",
       "    <tr>\n",
       "      <th>PYRDC</th>\n",
       "      <td>15.946051</td>\n",
       "      <td>0.000000e+00</td>\n",
       "    </tr>\n",
       "  </tbody>\n",
       "</table>\n",
       "<p>1577 rows × 2 columns</p>\n",
       "</div>"
      ],
      "text/plain": [
       "<Solution 0.288 at 0x7f0bc8a8ad10>"
      ]
     },
     "execution_count": 35,
     "metadata": {},
     "output_type": "execute_result"
    }
   ],
   "source": [
    "# Perform FBA\n",
    "fba = model.optimize(\"maximize\")\n",
    "fba\n",
    "# Reduced costs - impact of an increase of the flux through the respective reaction on the final objective value"
   ]
  },
  {
   "cell_type": "code",
   "execution_count": 36,
   "metadata": {},
   "outputs": [
    {
     "data": {
      "text/plain": [
       "0.28786570370401793"
      ]
     },
     "execution_count": 36,
     "metadata": {},
     "output_type": "execute_result"
    }
   ],
   "source": [
    "# access the objective value (growth rate in  1/h)\n",
    "fba.objective_value"
   ]
  },
  {
   "cell_type": "code",
   "execution_count": 37,
   "metadata": {},
   "outputs": [
    {
     "data": {
      "text/plain": [
       "CITtcp      0.000000\n",
       "13BGH       0.000000\n",
       "13BGHe      0.000000\n",
       "13GS        0.326670\n",
       "16GS        0.000000\n",
       "             ...    \n",
       "PYDXO       0.000000\n",
       "PYK        17.721990\n",
       "PYNP2r      0.000000\n",
       "PYR5CDm     0.000000\n",
       "PYRDC      15.946051\n",
       "Name: fluxes, Length: 1577, dtype: float64"
      ]
     },
     "execution_count": 37,
     "metadata": {},
     "output_type": "execute_result"
    }
   ],
   "source": [
    "# access fluxes (in mmol/(gDW*h))\n",
    "fba.fluxes"
   ]
  },
  {
   "cell_type": "code",
   "execution_count": 38,
   "metadata": {},
   "outputs": [
    {
     "data": {
      "text/html": [
       "<h3>Objective</h3><p>1.0 BIOMASS_SC5_notrace = 0.287865703704018</p><h4>Uptake</h4><table border=\"1\" class=\"dataframe\">\n",
       "  <thead>\n",
       "    <tr style=\"text-align: right;\">\n",
       "      <th>Metabolite</th>\n",
       "      <th>Reaction</th>\n",
       "      <th>Flux</th>\n",
       "      <th>C-Number</th>\n",
       "      <th>C-Flux</th>\n",
       "    </tr>\n",
       "  </thead>\n",
       "  <tbody>\n",
       "    <tr>\n",
       "      <td>glc__D_e</td>\n",
       "      <td>EX_glc__D_e</td>\n",
       "      <td>10</td>\n",
       "      <td>6</td>\n",
       "      <td>100.00%</td>\n",
       "    </tr>\n",
       "    <tr>\n",
       "      <td>nh4_e</td>\n",
       "      <td>EX_nh4_e</td>\n",
       "      <td>1.611</td>\n",
       "      <td>0</td>\n",
       "      <td>0.00%</td>\n",
       "    </tr>\n",
       "    <tr>\n",
       "      <td>o2_e</td>\n",
       "      <td>EX_o2_e</td>\n",
       "      <td>2</td>\n",
       "      <td>0</td>\n",
       "      <td>0.00%</td>\n",
       "    </tr>\n",
       "    <tr>\n",
       "      <td>pi_e</td>\n",
       "      <td>EX_pi_e</td>\n",
       "      <td>0.05691</td>\n",
       "      <td>0</td>\n",
       "      <td>0.00%</td>\n",
       "    </tr>\n",
       "    <tr>\n",
       "      <td>so4_e</td>\n",
       "      <td>EX_so4_e</td>\n",
       "      <td>0.02225</td>\n",
       "      <td>0</td>\n",
       "      <td>0.00%</td>\n",
       "    </tr>\n",
       "  </tbody>\n",
       "</table><h4>Secretion</h4><table border=\"1\" class=\"dataframe\">\n",
       "  <thead>\n",
       "    <tr style=\"text-align: right;\">\n",
       "      <th>Metabolite</th>\n",
       "      <th>Reaction</th>\n",
       "      <th>Flux</th>\n",
       "      <th>C-Number</th>\n",
       "      <th>C-Flux</th>\n",
       "    </tr>\n",
       "  </thead>\n",
       "  <tbody>\n",
       "    <tr>\n",
       "      <td>co2_e</td>\n",
       "      <td>EX_co2_e</td>\n",
       "      <td>-18.02</td>\n",
       "      <td>1</td>\n",
       "      <td>36.29%</td>\n",
       "    </tr>\n",
       "    <tr>\n",
       "      <td>etoh_e</td>\n",
       "      <td>EX_etoh_e</td>\n",
       "      <td>-15.82</td>\n",
       "      <td>2</td>\n",
       "      <td>63.70%</td>\n",
       "    </tr>\n",
       "    <tr>\n",
       "      <td>for_e</td>\n",
       "      <td>EX_for_e</td>\n",
       "      <td>-0.001488</td>\n",
       "      <td>1</td>\n",
       "      <td>0.00%</td>\n",
       "    </tr>\n",
       "    <tr>\n",
       "      <td>h2o_e</td>\n",
       "      <td>EX_h2o_e</td>\n",
       "      <td>-5.64</td>\n",
       "      <td>0</td>\n",
       "      <td>0.00%</td>\n",
       "    </tr>\n",
       "    <tr>\n",
       "      <td>h_e</td>\n",
       "      <td>EX_h_e</td>\n",
       "      <td>-1.45</td>\n",
       "      <td>0</td>\n",
       "      <td>0.00%</td>\n",
       "    </tr>\n",
       "  </tbody>\n",
       "</table>"
      ],
      "text/plain": [
       "<cobra.summary.model_summary.ModelSummary at 0x7f0bc8a90c90>"
      ]
     },
     "execution_count": 38,
     "metadata": {},
     "output_type": "execute_result"
    }
   ],
   "source": [
    "# get a nice summary with you objective and uptake/secretion rates\n",
    "model.summary()"
   ]
  },
  {
   "cell_type": "code",
   "execution_count": 39,
   "metadata": {},
   "outputs": [
    {
     "data": {
      "text/plain": [
       "0.28786570370401565"
      ]
     },
     "execution_count": 39,
     "metadata": {},
     "output_type": "execute_result"
    }
   ],
   "source": [
    "# this command also runs FBA, but the only output is the objective value\n",
    "# advantage - faster (can be useful if you need to run thousands of simulations)\n",
    "model.slim_optimize()"
   ]
  },
  {
   "cell_type": "code",
   "execution_count": 40,
   "metadata": {},
   "outputs": [
    {
     "data": {
      "text/plain": [
       "\u001b[0;31mSignature:\u001b[0m \u001b[0mmodel\u001b[0m\u001b[0;34m.\u001b[0m\u001b[0mslim_optimize\u001b[0m\u001b[0;34m(\u001b[0m\u001b[0merror_value\u001b[0m\u001b[0;34m=\u001b[0m\u001b[0mnan\u001b[0m\u001b[0;34m,\u001b[0m \u001b[0mmessage\u001b[0m\u001b[0;34m=\u001b[0m\u001b[0;32mNone\u001b[0m\u001b[0;34m)\u001b[0m\u001b[0;34m\u001b[0m\u001b[0;34m\u001b[0m\u001b[0m\n",
       "\u001b[0;31mDocstring:\u001b[0m\n",
       "Optimize model without creating a solution object.\n",
       "\n",
       "Creating a full solution object implies fetching shadow prices and\n",
       "flux values for all reactions and metabolites from the solver\n",
       "object. This necessarily takes some time and in cases where only one\n",
       "or two values are of interest, it is recommended to instead use this\n",
       "function which does not create a solution object returning only the\n",
       "value of the objective. Note however that the `optimize()` function\n",
       "uses efficient means to fetch values so if you need fluxes/shadow\n",
       "prices for more than say 4 reactions/metabolites, then the total\n",
       "speed increase of `slim_optimize` versus `optimize` is  expected to\n",
       "be small or even negative depending on how you fetch the values\n",
       "after optimization.\n",
       "\n",
       "Parameters\n",
       "----------\n",
       "error_value : float, None\n",
       "   The value to return if optimization failed due to e.g.\n",
       "   infeasibility. If None, raise `OptimizationError` if the\n",
       "   optimization fails.\n",
       "message : string\n",
       "   Error message to use if the model optimization did not succeed.\n",
       "\n",
       "Returns\n",
       "-------\n",
       "float\n",
       "    The objective value.\n",
       "\u001b[0;31mFile:\u001b[0m      /opt/conda/envs/E2N/lib/python3.7/site-packages/cobra/core/model.py\n",
       "\u001b[0;31mType:\u001b[0m      method\n"
      ]
     },
     "metadata": {},
     "output_type": "display_data"
    }
   ],
   "source": [
    "# If you need more info about a function, put a question mark after the command\n",
    "model.slim_optimize?"
   ]
  },
  {
   "cell_type": "markdown",
   "metadata": {},
   "source": [
    "## Knock-outs\n",
    "Why simulate knock-outs?\n",
    "* Determine whether a reaction is essential for growth/other functions\n",
    "* Improve properties of a cell (e.g. remove reactions that secrete waste products)\n",
    "* Test different genotypes (e.g. drug sensitivity of cancer cells with different mutations) \n",
    "\n",
    "We can either knock out reactions or genes."
   ]
  },
  {
   "cell_type": "code",
   "execution_count": 41,
   "metadata": {},
   "outputs": [
    {
     "name": "stdout",
     "output_type": "stream",
     "text": [
      "Growth rate after KO: 0.20932926167108812\n",
      "Wild type growth rate 0.28786570370401576\n"
     ]
    }
   ],
   "source": [
    "# Reaction knock-out\n",
    "with model:\n",
    "    model.reactions.CYOR_u6m .knock_out()\n",
    "    print(f\"Growth rate after KO: {model.slim_optimize()}\") \n",
    "    \n",
    "# outside \"with\" statement, the model is back to normal\n",
    "print(f\"Wild type growth rate {model.slim_optimize()}\")"
   ]
  },
  {
   "cell_type": "code",
   "execution_count": 42,
   "metadata": {},
   "outputs": [
    {
     "name": "stdout",
     "output_type": "stream",
     "text": [
      "Growth rate after KO: 0.20932926167108826\n",
      "Wild type growth rate 0.28786570370401693\n"
     ]
    }
   ],
   "source": [
    "# Gene knock-out\n",
    "with model:\n",
    "    model.genes.get_by_id(\"YBL045C\").knock_out()\n",
    "    print(f\"Growth rate after KO: {model.slim_optimize()}\") \n",
    "    \n",
    "# outside \"with\" statement, the model is back to normal\n",
    "print(f\"Wild type growth rate {model.slim_optimize()}\")"
   ]
  },
  {
   "cell_type": "markdown",
   "metadata": {},
   "source": [
    "# Exercises\n",
    "First we will define our growth medium. The default medium is minimal - it contains one carbon source (glucose), one nitrogen source (ammonium), H2O and ions.\n",
    "\n",
    "For anaerobic growth we also need lipids in the medium."
   ]
  },
  {
   "cell_type": "code",
   "execution_count": 43,
   "metadata": {},
   "outputs": [
    {
     "data": {
      "text/plain": [
       "{'EX_ergstest_SC_e': 10,\n",
       " 'EX_fe2_e': 999999.0,\n",
       " 'EX_glc__D_e': 10,\n",
       " 'EX_h2o_e': 999999.0,\n",
       " 'EX_h_e': 999999.0,\n",
       " 'EX_k_e': 999999.0,\n",
       " 'EX_na1_e': 999999.0,\n",
       " 'EX_so4_e': 999999.0,\n",
       " 'EX_nh4_e': 999999.0,\n",
       " 'EX_o2_e': 2.0,\n",
       " 'EX_pi_e': 999999.0,\n",
       " 'EX_ptd1ino_SC_e': 10,\n",
       " 'EX_zymstest_SC_e': 10}"
      ]
     },
     "execution_count": 43,
     "metadata": {},
     "output_type": "execute_result"
    }
   ],
   "source": [
    "# we do not have data on uptake rates - we can set lower bound to -1 (same as glucose)\n",
    "# it is unlikely that the uptake of lipids would be higher than glucose\n",
    "model.reactions.EX_ergstest_SC_e.lower_bound = -10\n",
    "model.reactions.EX_zymstest_SC_e.lower_bound = -10\n",
    "model.reactions.EX_ptd1ino_SC_e.lower_bound = -10\n",
    "\n",
    "# check what is in the medium\n",
    "model.medium"
   ]
  },
  {
   "cell_type": "markdown",
   "metadata": {},
   "source": [
    "## Exercise 1 - FBA in aerobic conditions\n",
    "What is the maximum growth rate under these conditions? Try changing the value of the glucose uptake rate."
   ]
  },
  {
   "cell_type": "code",
   "execution_count": 44,
   "metadata": {},
   "outputs": [
    {
     "name": "stdout",
     "output_type": "stream",
     "text": [
      "Growth rate in aerobic conditions: 0.2930205159160624\n"
     ]
    }
   ],
   "source": [
    "with model:\n",
    "    # set glucose uptake rate and perform FBA\n",
    "    model.reactions.EX_glc__D_e.lower_bound = -10\n",
    "    fba1 = model.optimize()\n",
    "    \n",
    "    # print results\n",
    "    print(f\"Growth rate in aerobic conditions: {fba1.objective_value}\")"
   ]
  },
  {
   "cell_type": "markdown",
   "metadata": {},
   "source": [
    "The value of the uptake rate greatly influcences predictions - this shows importance of uptake rate measurements on the predictions. If the medium contains more than one carbon source, ideally all of them should be measured (or at least the most abundand ones)."
   ]
  },
  {
   "cell_type": "markdown",
   "metadata": {},
   "source": [
    "## Exercise 2 - FBA in anaerobic conditions\n",
    "What is the maximum growth rate in anaerobic conditions (under the same glucose uptake rate as before)?"
   ]
  },
  {
   "cell_type": "code",
   "execution_count": 45,
   "metadata": {},
   "outputs": [
    {
     "data": {
      "text/plain": [
       "[<Reaction EX_co2_e at 0x7f0bc8fa2190>, <Reaction EX_o2_e at 0x7f0bc8f60d50>]"
      ]
     },
     "execution_count": 45,
     "metadata": {},
     "output_type": "execute_result"
    }
   ],
   "source": [
    "model.reactions.query(\"O2 exchange\", \"name\")"
   ]
  },
  {
   "cell_type": "code",
   "execution_count": 46,
   "metadata": {},
   "outputs": [
    {
     "name": "stdout",
     "output_type": "stream",
     "text": [
      "Anaerobic growth rate with glucose as carbon source: 0.21113285779546392\n"
     ]
    }
   ],
   "source": [
    "with model:\n",
    "    # set oxygen uptake to zero\n",
    "    model.reactions.EX_o2_e.lower_bound = 0\n",
    "    \n",
    "    # set glucose uptake rate and perform FBA\n",
    "    model.reactions.EX_glc__D_e.lower_bound = -10\n",
    "    fba2 = model.optimize()\n",
    "    \n",
    "    # print results    \n",
    "    print(f\"Anaerobic growth rate with glucose as carbon source: {fba2.objective_value}\")"
   ]
  },
  {
   "cell_type": "markdown",
   "metadata": {},
   "source": [
    "## Exercise 3 - ethanol production envelope in aerobic conditions\n",
    "You are interested in ethanol production capabilities of your strain. To analyse ethanol production at different growth rates, make a production envelope: \n",
    "* make a list of growth rates from zero to maximum possible\n",
    "* go over the list of growth rates step by step and use them as a constraint (lower bound)\n",
    "* set ethanol as the objective and minimize & maximize its secretion\n",
    "* plot your results (x-axis - growth rate, y-axis - min. and max. ethanol secretion)"
   ]
  },
  {
   "cell_type": "code",
   "execution_count": 47,
   "metadata": {},
   "outputs": [
    {
     "data": {
      "text/plain": [
       "[<Reaction EX_etoh_e at 0x7f0bc8fce350>]"
      ]
     },
     "execution_count": 47,
     "metadata": {},
     "output_type": "execute_result"
    }
   ],
   "source": [
    "model.reactions.query(\"Ethanol exchange\", \"name\")"
   ]
  },
  {
   "cell_type": "code",
   "execution_count": 48,
   "metadata": {},
   "outputs": [],
   "source": [
    "# make empty lists that will be used to store the maximum and minimum values of ethanol production\n",
    "max_etoh = []\n",
    "min_etoh = []\n",
    "\n",
    "# make a list of tested growth rates\n",
    "mus = np.linspace(0, fba1.objective_value, 10)\n",
    "\n",
    "# loop over the list of growth rates\n",
    "for mu in mus:\n",
    "    with model:\n",
    "        # set glucose uptake to and biomass to the tested growth rate\n",
    "        model.reactions.EX_glc__D_e.lower_bound = -10\n",
    "        model.reactions.BIOMASS_SC5_notrace.lower_bound = mu\n",
    "        \n",
    "        # set objective to ethanol exchange\n",
    "        model.objective = \"EX_etoh_e\"\n",
    "        \n",
    "        # maximize and minimize production\n",
    "        max_etoh.append(model.optimize(\"maximize\").objective_value)\n",
    "        min_etoh.append(model.optimize(\"minimize\").objective_value)\n"
   ]
  },
  {
   "cell_type": "code",
   "execution_count": 49,
   "metadata": {},
   "outputs": [
    {
     "data": {
      "text/plain": [
       "<matplotlib.collections.PolyCollection at 0x7f0bc69edfd0>"
      ]
     },
     "execution_count": 49,
     "metadata": {},
     "output_type": "execute_result"
    },
    {
     "data": {
      "image/png": "[encoded data removed]",
      "text/plain": [
       "<Figure size 432x288 with 1 Axes>"
      ]
     },
     "metadata": {
      "needs_background": "light"
     },
     "output_type": "display_data"
    }
   ],
   "source": [
    "# plot solution space - these are (theoretically) all possible growth rates and ethanol secretion rates that cell can achieve\n",
    "plt.plot(mus, max_etoh, color = \"blue\")\n",
    "plt.plot(mus, min_etoh, color = \"blue\")\n",
    "plt.xlabel(\"Growth rate [1/h]\")\n",
    "plt.ylabel(\"Ethanol productivity [mmol/gDW h]\")\n",
    "plt.fill_between(mus, min_etoh, max_etoh, color = \"blue\", alpha = 0.3)"
   ]
  },
  {
   "cell_type": "markdown",
   "metadata": {},
   "source": [
    "The plot above shows all possible growth rate and ethanol secretion values. Up to growth rate of around 0.23, ethanol secretion can be anywhere between 0 and the maximum value. Above this growth rate, ethanol always has to be produced - this phenomenon is called **growth coupling**. In this case, it is a **weak coupling**, because there are growth rates where ethanol production can be theoretically zero."
   ]
  },
  {
   "cell_type": "markdown",
   "metadata": {},
   "source": [
    "## Exercise 4 - ethanol production envelope in anaerobic conditions\n",
    "Let's try the same in anaerobic conditions."
   ]
  },
  {
   "cell_type": "code",
   "execution_count": 50,
   "metadata": {},
   "outputs": [],
   "source": [
    "# make empty lists that will be used to store the maximum and minimum values of ethanol production\n",
    "max_etoh_ana = []\n",
    "min_etoh_ana = []\n",
    "\n",
    "# make a list of tested growth rates\n",
    "mus_ana = np.linspace(0, fba2.objective_value, 10)\n",
    "\n",
    "# loop over the list of growth rates\n",
    "for mu in mus_ana:\n",
    "    with model:        \n",
    "        # set glucose uptake, biomass and turn off O2 uptake\n",
    "        model.reactions.EX_o2_e.lower_bound = 0\n",
    "        model.reactions.EX_glc__D_e.lower_bound = -10\n",
    "        model.reactions.BIOMASS_SC5_notrace.lower_bound = mu\n",
    "        \n",
    "        # set objective to ethanol exchange\n",
    "        model.objective = \"EX_etoh_e\"\n",
    "        \n",
    "        # maximize and minimize production\n",
    "        max_etoh_ana.append(model.optimize(\"maximize\").objective_value)\n",
    "        min_etoh_ana.append(model.optimize(\"minimize\").objective_value)\n"
   ]
  },
  {
   "cell_type": "code",
   "execution_count": 51,
   "metadata": {},
   "outputs": [
    {
     "data": {
      "text/plain": [
       "<matplotlib.collections.PolyCollection at 0x7f0bc8f478d0>"
      ]
     },
     "execution_count": 51,
     "metadata": {},
     "output_type": "execute_result"
    },
    {
     "data": {
      "image/png": "[encoded data removed]",
      "text/plain": [
       "<Figure size 432x288 with 1 Axes>"
      ]
     },
     "metadata": {
      "needs_background": "light"
     },
     "output_type": "display_data"
    }
   ],
   "source": [
    "# plot solution space - these are (theoretically) all possible growth rates and ethanol secretion rates that cell can achieve\n",
    "plt.plot(mus_ana, max_etoh_ana, color = \"green\")\n",
    "plt.plot(mus_ana, min_etoh_ana, color = \"green\")\n",
    "plt.xlabel(\"Growth rate [1/h]\")\n",
    "plt.ylabel(\"Ethanol productivity [mmol/gDW h]\")\n",
    "plt.fill_between(mus_ana, min_etoh_ana, max_etoh_ana, color = \"green\", alpha = 0.3)"
   ]
  },
  {
   "cell_type": "markdown",
   "metadata": {},
   "source": [
    "We observe stronger growth coupling - above the growth rate of around 0.14, cells have to produce ethanol."
   ]
  },
  {
   "cell_type": "markdown",
   "metadata": {},
   "source": [
    "## Exercise 5 - ethanol production envelope after KOs in anaerobic conditions\n",
    "A common way how to achieve growth coupling is by making certain knock-out(s). These ensure that the cell has to produce the product of interest (basically because all other alternative pathways are gone). There are algorithms which can predict these, such as **OptKnock, RobustKnock, OptCouple**... However, they are computationally demanding (take a long time to run, especially if you are looking for double, triple, quadruple... KOs, because they have to test all possible combinations of KOs).\n",
    "\n",
    "Here we are going to try effects of KOs that were previously idendified in [von Kamp, A., & Klamt, S. (2017)](https://dx.doi.org/10.1038%2Fncomms15956): Glycerol 3 phosphate dehydrogenase (NAD), Malate dehydrogenase and NADH dehydrogenase."
   ]
  },
  {
   "cell_type": "code",
   "execution_count": 52,
   "metadata": {},
   "outputs": [],
   "source": [
    "# reactions to be knocked out\n",
    "KOs = [\"G3PD1ir\", \"MDH\", \"NADH2_u6cm\"]"
   ]
  },
  {
   "cell_type": "code",
   "execution_count": 53,
   "metadata": {},
   "outputs": [],
   "source": [
    "# make empty lists that will be used to store the maximum and minimum values of ethanol production\n",
    "max_etoh_KOs = []\n",
    "min_etoh_KOs = []\n",
    "\n",
    "# determine maximum growth rate after making the knock outs\n",
    "with model:\n",
    "    for KO in KOs:\n",
    "        model.reactions.EX_o2_e.lower_bound = 0\n",
    "        model.reactions.EX_glc__D_e.lower_bound = -5\n",
    "        model.reactions.get_by_id(KO).knock_out()\n",
    "    mu_max_KO = model.slim_optimize()\n",
    "\n",
    "# make a list of tested growth rates\n",
    "mus_KOs = np.linspace(0, mu_max_KO, 10)\n",
    "\n",
    "# loop over the list of growth rates\n",
    "for mu in mus_KOs:\n",
    "    with model:\n",
    "        # perform knock_outs\n",
    "        for KO in KOs:\n",
    "            model.reactions.get_by_id(KO).knock_out()\n",
    "\n",
    "        # set glucose uptake, biomass and turn off O2 uptake\n",
    "        model.reactions.EX_glc__D_e.lower_bound = -5\n",
    "        model.reactions.BIOMASS_SC5_notrace.lower_bound = mu\n",
    "        model.reactions.EX_o2_e.lower_bound = 0\n",
    "\n",
    "        \n",
    "        # set objective to ethanol exchange\n",
    "        model.objective = \"EX_etoh_e\"\n",
    "        \n",
    "        # maximize and minimize production\n",
    "        max_etoh_KOs.append(model.optimize(\"maximize\").objective_value)\n",
    "        min_etoh_KOs.append(model.optimize(\"minimize\").objective_value)\n"
   ]
  },
  {
   "cell_type": "code",
   "execution_count": 54,
   "metadata": {},
   "outputs": [
    {
     "data": {
      "text/plain": [
       "<matplotlib.collections.PolyCollection at 0x7f0bc901ec90>"
      ]
     },
     "execution_count": 54,
     "metadata": {},
     "output_type": "execute_result"
    },
    {
     "data": {
      "image/png": "[encoded data removed]",
      "text/plain": [
       "<Figure size 432x288 with 1 Axes>"
      ]
     },
     "metadata": {
      "needs_background": "light"
     },
     "output_type": "display_data"
    }
   ],
   "source": [
    "# plot solution space - these are (theoretically) all possible growth rates and ethanol secretion rates that cell can achieve\n",
    "plt.plot(mus_KOs, max_etoh_KOs, color = \"red\")\n",
    "plt.plot(mus_KOs, min_etoh_KOs, color = \"red\")\n",
    "plt.xlabel(\"Growth rate [1/h]\")\n",
    "plt.ylabel(\"Ethanol productivity [mmol/gDW h]\")\n",
    "plt.fill_between(mus_KOs, min_etoh_KOs, max_etoh_KOs, color = \"red\", alpha = 0.3)"
   ]
  },
  {
   "cell_type": "markdown",
   "metadata": {},
   "source": [
    "We see that after making the konck-outs we observe much stronger growth coupling. When the cells grow above 0.01, they have to produce ethanol. \n",
    "\n",
    "Can you think of an explanation why we observe growth coupling after making these knock-outs?"
   ]
  },
  {
   "cell_type": "markdown",
   "metadata": {},
   "source": [
    "## Exercise 6 - Visualization\n",
    "In the last part of the notebook we are going to visualize the predicted fluxes and compare flux distributions in aerobic vs anaerobic conditions."
   ]
  },
  {
   "cell_type": "code",
   "execution_count": 55,
   "metadata": {},
   "outputs": [
    {
     "data": {
      "text/plain": [
       "[{'organism': 'Saccharomyces cerevisiae',\n",
       "  'map_name': 'iMM904.Central carbon metabolism'},\n",
       " {'organism': 'Homo sapiens',\n",
       "  'map_name': 'RECON1.Inositol retinol metabolism'},\n",
       " {'organism': 'Homo sapiens', 'map_name': 'RECON1.Glycolysis TCA PPP'},\n",
       " {'organism': 'Homo sapiens', 'map_name': 'RECON1.Tryptophan metabolism'},\n",
       " {'organism': 'Homo sapiens', 'map_name': 'RECON1.Carbohydrate metabolism'},\n",
       " {'organism': 'Homo sapiens',\n",
       "  'map_name': 'RECON1.Amino acid metabolism (partial)'},\n",
       " {'organism': 'Escherichia coli', 'map_name': 'iJO1366.Nucleotide metabolism'},\n",
       " {'organism': 'Escherichia coli',\n",
       "  'map_name': 'iJO1366.Fatty acid biosynthesis (saturated)'},\n",
       " {'organism': 'Escherichia coli',\n",
       "  'map_name': 'iJO1366.Nucleotide and histidine biosynthesis'},\n",
       " {'organism': 'Escherichia coli', 'map_name': 'e_coli_core.Core metabolism'},\n",
       " {'organism': 'Escherichia coli', 'map_name': 'iJO1366.Central metabolism'},\n",
       " {'organism': 'Escherichia coli',\n",
       "  'map_name': 'iJO1366.Fatty acid beta-oxidation'}]"
      ]
     },
     "execution_count": 55,
     "metadata": {},
     "output_type": "execute_result"
    }
   ],
   "source": [
    "# available maps for different models\n",
    "escher.list_available_maps()"
   ]
  },
  {
   "cell_type": "code",
   "execution_count": 56,
   "metadata": {},
   "outputs": [
    {
     "name": "stdout",
     "output_type": "stream",
     "text": [
      "Downloading Map from https://escher.github.io/1-0-0/6/maps/Saccharomyces%20cerevisiae/iMM904.Central%20carbon%20metabolism.json\n",
      "Downloading Map from https://escher.github.io/1-0-0/6/maps/Saccharomyces%20cerevisiae/iMM904.Central%20carbon%20metabolism.json\n"
     ]
    }
   ],
   "source": [
    "# use FBA results from exercise 1 and 2\n",
    "# these commands will create html files which you can open in a browser\n",
    "builder = escher.Builder('iMM904.Central carbon metabolism',\n",
    "                       reaction_data=fba1.fluxes)\n",
    "builder.save_html(f\"FBA_aerobic.html\")\n",
    "\n",
    "builder = escher.Builder('iMM904.Central carbon metabolism',\n",
    "                       reaction_data=fba2.fluxes)\n",
    "builder.save_html(f\"FBA_anaerobic.html\")"
   ]
  },
  {
   "cell_type": "code",
   "execution_count": null,
   "metadata": {},
   "outputs": [],
   "source": []
  }
 ],
 "metadata": {
  "kernelspec": {
   "display_name": "E2N",
   "language": "python",
   "name": "e2n"
  },
  "language_info": {
   "codemirror_mode": {
    "name": "ipython",
    "version": 3
   },
   "file_extension": ".py",
   "mimetype": "text/x-python",
   "name": "python",
   "nbconvert_exporter": "python",
   "pygments_lexer": "ipython3",
   "version": "3.7.11"
  }
 },
 "nbformat": 4,
 "nbformat_minor": 4
}
